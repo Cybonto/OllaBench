{
 "cells": [
  {
   "cell_type": "code",
   "execution_count": 1,
   "metadata": {},
   "outputs": [],
   "source": [
    "import os\n",
    "import datetime\n",
    "import csv\n",
    "import pandas as pd\n",
    "from openai import OpenAI\n",
    "import shutil\n",
    "\n",
    "topic=\"Benefits_noncom\"\n",
    "\n",
    "prompt1=\"The person said My non-compliance with information security policies would benefit me.\"\n",
    "prompt2=\"The person said My non-compliance with the requirements of the information security policies would provide gains to me.\"\n",
    "\n",
    "input_folder=\"./temp/bin/\"\n",
    "temp_file=\"./temp/temp.csv\"\n",
    "batch_size=1\n",
    "batch_num=20 # no more than 20\n",
    "\n",
    "output_file=\"Ollagen_\"+str(topic)+\".csv\"\n",
    "\n",
    "try:\n",
    "    shutil.rmtree(input_folder)\n",
    "except Exception as e:\n",
    "    print(f\"Error occurred while removing folder: '{e}'\")"
   ]
  },
  {
   "cell_type": "code",
   "execution_count": 153,
   "metadata": {},
   "outputs": [],
   "source": [
    "\n",
    "client = OpenAI(\n",
    "    # This is the default and can be omitted\n",
    "    api_key=os.environ.get(\"OPENAI_API_KEY\"),\n",
    ")\n",
    "\n",
    "def get_response(a_prompt, multiplier):\n",
    "    \"\"\"\n",
    "    Takes a prompt and returns a response from ChatGPT.\n",
    "    Parameters:\n",
    "    prompt (str): The input prompt\n",
    "    engine (str): The engine to use for generating the response.\n",
    "    Returns:\n",
    "    str: The response.\n",
    "    \"\"\"\n",
    "    prompts=[a_prompt]*multiplier\n",
    "    responses=[\"\"] * len(prompts)\n",
    "    response = client.completions.create(\n",
    "        model=\"gpt-3.5-turbo-instruct\",\n",
    "        prompt=prompts\n",
    "    )\n",
    "    for choice in response.choices:\n",
    "        responses[choice.index]= choice.text.strip()\n",
    "    return responses\n",
    "\n",
    "def combine_and_remove_duplicates(input_folder, output_file):\n",
    "    # List all CSV files in the input folder\n",
    "    csv_files = [file for file in os.listdir(input_folder) if file.endswith('.csv')]\n",
    "    \n",
    "    # Read all CSV files into separate DataFrames\n",
    "    dfs = [pd.read_csv(os.path.join(input_folder, file)) for file in csv_files]\n",
    "    \n",
    "    # Concatenate all DataFrames\n",
    "    combined_df = pd.concat(dfs, ignore_index=True)\n",
    "    \n",
    "    # Remove duplicates from the combined DataFrame\n",
    "    combined_df.drop_duplicates(inplace=True)\n",
    "    \n",
    "    # Write the combined DataFrame to a new CSV file\n",
    "    combined_df.to_csv(output_file, index=False)\n",
    "    print(f\"Combined CSV with duplicates removed saved to '{output_file}'\")\n",
    "\n",
    "def batch_processing(batch_size, batch_num, topic, a_prompt):\n",
    "    input_folder=\"./temp/bin/\"\n",
    "    if not os.path.exists(input_folder):\n",
    "        os.makedirs(input_folder)\n",
    "    current_datetime = datetime.datetime.now()\n",
    "    timestamp_string = current_datetime.strftime(\"%Y%m%d_%H%M%S\")\n",
    "    name_list_path = input_folder+str(timestamp_string)+\".csv\"\n",
    "    #print(\"---- Trying to generate \"+str(batch_size*batch_num)+\" items\")\n",
    "    if batch_size>0:\n",
    "        data_raw= get_response(\"In a single line, give me \"+str(batch_size)+\" interpretations of the following: \"+str(a_prompt)+\". Ends each interpretation sentence with a period. Use \\\"/|/\\\" to separate the interpretations from each other. The answers must be without repeating any part of the statement\",batch_num)\n",
    "    else:\n",
    "        data_raw= get_response(str(a_prompt),batch_num)\n",
    "    data_list =[]\n",
    "    for item in data_raw:\n",
    "        item_data=remove_non_charmap_characters(str(item)).split(\"/|/\")\n",
    "        data_list.extend(item_data)\n",
    "    list_df=pd.DataFrame(data_list,columns=[topic])\n",
    "    list_df.to_csv(name_list_path, index=False, quoting=2, escapechar=\"\\\\\")\n",
    "    current_time = datetime.datetime.now()\n",
    "    print (\"     finished at: \", current_time.strftime(\"%H:%M:%S\"))\n",
    "\n",
    "def remove_non_charmap_characters(s):\n",
    "    \"\"\"Remove characters from the string s that cannot be encoded using the charmap codec.\"\"\"\n",
    "    return s.encode('charmap', 'ignore').decode('charmap')\n",
    "\n",
    "def remove_items_without_period(input_file, output_file):\n",
    "    with open(input_file, 'r', newline='') as infile:\n",
    "        with open(output_file, 'w', newline='') as outfile:\n",
    "            reader = csv.reader(infile)\n",
    "            writer = csv.writer(outfile)\n",
    "            for row in reader:\n",
    "                # Check if the last item in the row ends with a period\n",
    "                if row[-1].strip().endswith('.'):\n",
    "                    writer.writerow(row)"
   ]
  },
  {
   "cell_type": "code",
   "execution_count": 154,
   "metadata": {},
   "outputs": [
    {
     "name": "stdout",
     "output_type": "stream",
     "text": [
      "     finished at:  09:55:41\n"
     ]
    }
   ],
   "source": [
    "batch_processing(batch_size, batch_num, topic, prompt1)"
   ]
  },
  {
   "cell_type": "code",
   "execution_count": 155,
   "metadata": {},
   "outputs": [
    {
     "name": "stdout",
     "output_type": "stream",
     "text": [
      "     finished at:  09:55:41\n"
     ]
    }
   ],
   "source": [
    "batch_processing(batch_size, batch_num, topic, prompt1)"
   ]
  },
  {
   "cell_type": "code",
   "execution_count": 156,
   "metadata": {},
   "outputs": [
    {
     "name": "stdout",
     "output_type": "stream",
     "text": [
      "     finished at:  09:55:42\n"
     ]
    }
   ],
   "source": [
    "batch_processing(batch_size, batch_num, topic, prompt1)"
   ]
  },
  {
   "cell_type": "code",
   "execution_count": 157,
   "metadata": {},
   "outputs": [
    {
     "name": "stdout",
     "output_type": "stream",
     "text": [
      "     finished at:  09:55:42\n"
     ]
    }
   ],
   "source": [
    "batch_processing(batch_size, batch_num, topic, prompt1)"
   ]
  },
  {
   "cell_type": "code",
   "execution_count": 158,
   "metadata": {},
   "outputs": [
    {
     "name": "stdout",
     "output_type": "stream",
     "text": [
      "     finished at:  09:55:43\n"
     ]
    }
   ],
   "source": [
    "batch_processing(batch_size, batch_num, topic, prompt1)"
   ]
  },
  {
   "cell_type": "code",
   "execution_count": 159,
   "metadata": {},
   "outputs": [
    {
     "name": "stdout",
     "output_type": "stream",
     "text": [
      "     finished at:  09:55:44\n"
     ]
    }
   ],
   "source": [
    "batch_processing(batch_size, batch_num, topic, prompt1)"
   ]
  },
  {
   "cell_type": "code",
   "execution_count": 160,
   "metadata": {},
   "outputs": [
    {
     "name": "stdout",
     "output_type": "stream",
     "text": [
      "     finished at:  09:55:44\n"
     ]
    }
   ],
   "source": [
    "batch_processing(batch_size, batch_num, topic, prompt1)"
   ]
  },
  {
   "cell_type": "code",
   "execution_count": 161,
   "metadata": {},
   "outputs": [
    {
     "name": "stdout",
     "output_type": "stream",
     "text": [
      "     finished at:  09:55:45\n"
     ]
    }
   ],
   "source": [
    "batch_processing(batch_size, batch_num, topic, prompt1)"
   ]
  },
  {
   "cell_type": "code",
   "execution_count": 162,
   "metadata": {},
   "outputs": [
    {
     "name": "stdout",
     "output_type": "stream",
     "text": [
      "     finished at:  09:55:46\n"
     ]
    }
   ],
   "source": [
    "batch_processing(batch_size, batch_num, topic, prompt1)"
   ]
  },
  {
   "cell_type": "code",
   "execution_count": 163,
   "metadata": {},
   "outputs": [
    {
     "name": "stdout",
     "output_type": "stream",
     "text": [
      "     finished at:  09:55:46\n"
     ]
    }
   ],
   "source": [
    "batch_processing(batch_size, batch_num, topic, prompt1)"
   ]
  },
  {
   "cell_type": "code",
   "execution_count": 164,
   "metadata": {},
   "outputs": [
    {
     "name": "stdout",
     "output_type": "stream",
     "text": [
      "     finished at:  09:55:46\n"
     ]
    }
   ],
   "source": [
    "batch_processing(batch_size, batch_num, topic, prompt1)"
   ]
  },
  {
   "cell_type": "code",
   "execution_count": 165,
   "metadata": {},
   "outputs": [
    {
     "name": "stdout",
     "output_type": "stream",
     "text": [
      "     finished at:  09:55:47\n"
     ]
    }
   ],
   "source": [
    "batch_processing(batch_size, batch_num, topic, prompt1)"
   ]
  },
  {
   "cell_type": "code",
   "execution_count": 166,
   "metadata": {},
   "outputs": [
    {
     "name": "stdout",
     "output_type": "stream",
     "text": [
      "     finished at:  09:55:48\n"
     ]
    }
   ],
   "source": [
    "batch_processing(batch_size, batch_num, topic, prompt1)"
   ]
  },
  {
   "cell_type": "code",
   "execution_count": 167,
   "metadata": {},
   "outputs": [
    {
     "name": "stdout",
     "output_type": "stream",
     "text": [
      "     finished at:  09:55:48\n"
     ]
    }
   ],
   "source": [
    "batch_processing(batch_size, batch_num, topic, prompt1)"
   ]
  },
  {
   "cell_type": "code",
   "execution_count": 168,
   "metadata": {},
   "outputs": [
    {
     "name": "stdout",
     "output_type": "stream",
     "text": [
      "     finished at:  09:55:49\n"
     ]
    }
   ],
   "source": [
    "batch_processing(batch_size, batch_num, topic, prompt1)"
   ]
  },
  {
   "cell_type": "code",
   "execution_count": 169,
   "metadata": {},
   "outputs": [
    {
     "name": "stdout",
     "output_type": "stream",
     "text": [
      "     finished at:  09:55:49\n"
     ]
    }
   ],
   "source": [
    "batch_processing(batch_size, batch_num, topic, prompt1)"
   ]
  },
  {
   "cell_type": "code",
   "execution_count": 170,
   "metadata": {},
   "outputs": [
    {
     "name": "stdout",
     "output_type": "stream",
     "text": [
      "     finished at:  09:55:50\n"
     ]
    }
   ],
   "source": [
    "batch_processing(batch_size, batch_num, topic, prompt1)"
   ]
  },
  {
   "cell_type": "code",
   "execution_count": 171,
   "metadata": {},
   "outputs": [
    {
     "name": "stdout",
     "output_type": "stream",
     "text": [
      "     finished at:  09:55:51\n"
     ]
    }
   ],
   "source": [
    "batch_processing(batch_size, batch_num, topic, prompt1)"
   ]
  },
  {
   "cell_type": "code",
   "execution_count": 172,
   "metadata": {},
   "outputs": [
    {
     "name": "stdout",
     "output_type": "stream",
     "text": [
      "     finished at:  09:55:52\n"
     ]
    }
   ],
   "source": [
    "batch_processing(batch_size, batch_num, topic, prompt1)"
   ]
  },
  {
   "cell_type": "code",
   "execution_count": 173,
   "metadata": {},
   "outputs": [
    {
     "name": "stdout",
     "output_type": "stream",
     "text": [
      "     finished at:  09:55:52\n"
     ]
    }
   ],
   "source": [
    "batch_processing(batch_size, batch_num, topic, prompt1)"
   ]
  },
  {
   "cell_type": "code",
   "execution_count": 174,
   "metadata": {},
   "outputs": [
    {
     "name": "stdout",
     "output_type": "stream",
     "text": [
      "     finished at:  09:55:53\n"
     ]
    }
   ],
   "source": [
    "batch_processing(batch_size, batch_num, topic, prompt1)"
   ]
  },
  {
   "cell_type": "code",
   "execution_count": 175,
   "metadata": {},
   "outputs": [
    {
     "name": "stdout",
     "output_type": "stream",
     "text": [
      "     finished at:  09:55:53\n"
     ]
    }
   ],
   "source": [
    "batch_processing(batch_size, batch_num, topic, prompt1)"
   ]
  },
  {
   "cell_type": "code",
   "execution_count": 176,
   "metadata": {},
   "outputs": [
    {
     "name": "stdout",
     "output_type": "stream",
     "text": [
      "     finished at:  09:55:54\n"
     ]
    }
   ],
   "source": [
    "batch_processing(batch_size, batch_num, topic, prompt1)"
   ]
  },
  {
   "cell_type": "code",
   "execution_count": 177,
   "metadata": {},
   "outputs": [
    {
     "name": "stdout",
     "output_type": "stream",
     "text": [
      "     finished at:  09:55:55\n"
     ]
    }
   ],
   "source": [
    "batch_processing(batch_size, batch_num, topic, prompt1)"
   ]
  },
  {
   "cell_type": "code",
   "execution_count": 178,
   "metadata": {},
   "outputs": [
    {
     "name": "stdout",
     "output_type": "stream",
     "text": [
      "     finished at:  09:55:56\n"
     ]
    }
   ],
   "source": [
    "batch_processing(batch_size, batch_num, topic, prompt1)"
   ]
  },
  {
   "cell_type": "code",
   "execution_count": 179,
   "metadata": {},
   "outputs": [
    {
     "name": "stdout",
     "output_type": "stream",
     "text": [
      "     finished at:  09:55:56\n"
     ]
    }
   ],
   "source": [
    "batch_processing(batch_size, batch_num, topic, prompt1)"
   ]
  },
  {
   "cell_type": "code",
   "execution_count": 180,
   "metadata": {},
   "outputs": [
    {
     "name": "stdout",
     "output_type": "stream",
     "text": [
      "     finished at:  09:55:57\n"
     ]
    }
   ],
   "source": [
    "batch_processing(batch_size, batch_num, topic, prompt1)"
   ]
  },
  {
   "cell_type": "code",
   "execution_count": 181,
   "metadata": {},
   "outputs": [
    {
     "name": "stdout",
     "output_type": "stream",
     "text": [
      "     finished at:  09:55:58\n"
     ]
    }
   ],
   "source": [
    "batch_processing(batch_size, batch_num, topic, prompt1)"
   ]
  },
  {
   "cell_type": "code",
   "execution_count": 182,
   "metadata": {},
   "outputs": [
    {
     "name": "stdout",
     "output_type": "stream",
     "text": [
      "     finished at:  09:55:58\n"
     ]
    }
   ],
   "source": [
    "batch_processing(batch_size, batch_num, topic, prompt1)"
   ]
  },
  {
   "cell_type": "code",
   "execution_count": 183,
   "metadata": {},
   "outputs": [
    {
     "name": "stdout",
     "output_type": "stream",
     "text": [
      "     finished at:  09:55:59\n"
     ]
    }
   ],
   "source": [
    "batch_processing(batch_size, batch_num, topic, prompt1)"
   ]
  },
  {
   "cell_type": "code",
   "execution_count": 184,
   "metadata": {},
   "outputs": [
    {
     "name": "stdout",
     "output_type": "stream",
     "text": [
      "     finished at:  09:55:59\n"
     ]
    }
   ],
   "source": [
    "batch_processing(batch_size, batch_num, topic, prompt1)"
   ]
  },
  {
   "cell_type": "code",
   "execution_count": 185,
   "metadata": {},
   "outputs": [
    {
     "name": "stdout",
     "output_type": "stream",
     "text": [
      "     finished at:  09:56:00\n"
     ]
    }
   ],
   "source": [
    "batch_processing(batch_size, batch_num, topic, prompt1)"
   ]
  },
  {
   "cell_type": "code",
   "execution_count": 186,
   "metadata": {},
   "outputs": [
    {
     "name": "stdout",
     "output_type": "stream",
     "text": [
      "     finished at:  09:56:01\n"
     ]
    }
   ],
   "source": [
    "batch_processing(batch_size, batch_num, topic, prompt1)"
   ]
  },
  {
   "cell_type": "code",
   "execution_count": 187,
   "metadata": {},
   "outputs": [
    {
     "name": "stdout",
     "output_type": "stream",
     "text": [
      "     finished at:  09:56:01\n"
     ]
    }
   ],
   "source": [
    "batch_processing(batch_size, batch_num, topic, prompt1)"
   ]
  },
  {
   "cell_type": "code",
   "execution_count": 188,
   "metadata": {},
   "outputs": [
    {
     "name": "stdout",
     "output_type": "stream",
     "text": [
      "     finished at:  09:56:01\n"
     ]
    }
   ],
   "source": [
    "batch_processing(batch_size, batch_num, topic, prompt1)"
   ]
  },
  {
   "cell_type": "code",
   "execution_count": 189,
   "metadata": {},
   "outputs": [
    {
     "name": "stdout",
     "output_type": "stream",
     "text": [
      "     finished at:  09:56:02\n"
     ]
    }
   ],
   "source": [
    "batch_processing(batch_size, batch_num, topic, prompt1)"
   ]
  },
  {
   "cell_type": "code",
   "execution_count": 190,
   "metadata": {},
   "outputs": [
    {
     "name": "stdout",
     "output_type": "stream",
     "text": [
      "     finished at:  09:56:03\n"
     ]
    }
   ],
   "source": [
    "batch_processing(batch_size, batch_num, topic, prompt1)"
   ]
  },
  {
   "cell_type": "code",
   "execution_count": 191,
   "metadata": {},
   "outputs": [
    {
     "name": "stdout",
     "output_type": "stream",
     "text": [
      "     finished at:  09:56:04\n"
     ]
    }
   ],
   "source": [
    "batch_processing(batch_size, batch_num, topic, prompt1)"
   ]
  },
  {
   "cell_type": "code",
   "execution_count": 192,
   "metadata": {},
   "outputs": [
    {
     "name": "stdout",
     "output_type": "stream",
     "text": [
      "     finished at:  09:56:04\n"
     ]
    }
   ],
   "source": [
    "batch_processing(batch_size, batch_num, topic, prompt1)"
   ]
  },
  {
   "cell_type": "code",
   "execution_count": 193,
   "metadata": {},
   "outputs": [
    {
     "name": "stdout",
     "output_type": "stream",
     "text": [
      "     finished at:  09:56:05\n"
     ]
    }
   ],
   "source": [
    "batch_processing(batch_size, batch_num, topic, prompt1)"
   ]
  },
  {
   "cell_type": "code",
   "execution_count": 194,
   "metadata": {},
   "outputs": [
    {
     "name": "stdout",
     "output_type": "stream",
     "text": [
      "     finished at:  09:56:05\n"
     ]
    }
   ],
   "source": [
    "batch_processing(batch_size, batch_num, topic, prompt1)"
   ]
  },
  {
   "cell_type": "code",
   "execution_count": 195,
   "metadata": {},
   "outputs": [
    {
     "name": "stdout",
     "output_type": "stream",
     "text": [
      "     finished at:  09:56:06\n"
     ]
    }
   ],
   "source": [
    "batch_processing(batch_size, batch_num, topic, prompt1)"
   ]
  },
  {
   "cell_type": "code",
   "execution_count": 196,
   "metadata": {},
   "outputs": [
    {
     "name": "stdout",
     "output_type": "stream",
     "text": [
      "     finished at:  09:56:06\n"
     ]
    }
   ],
   "source": [
    "batch_processing(batch_size, batch_num, topic, prompt1)"
   ]
  },
  {
   "cell_type": "code",
   "execution_count": 197,
   "metadata": {},
   "outputs": [
    {
     "name": "stdout",
     "output_type": "stream",
     "text": [
      "     finished at:  09:56:07\n"
     ]
    }
   ],
   "source": [
    "batch_processing(batch_size, batch_num, topic, prompt1)"
   ]
  },
  {
   "cell_type": "code",
   "execution_count": 198,
   "metadata": {},
   "outputs": [
    {
     "name": "stdout",
     "output_type": "stream",
     "text": [
      "     finished at:  09:56:08\n"
     ]
    }
   ],
   "source": [
    "batch_processing(batch_size, batch_num, topic, prompt1)"
   ]
  },
  {
   "cell_type": "code",
   "execution_count": 199,
   "metadata": {},
   "outputs": [
    {
     "name": "stdout",
     "output_type": "stream",
     "text": [
      "     finished at:  09:56:08\n"
     ]
    }
   ],
   "source": [
    "batch_processing(batch_size, batch_num, topic, prompt1)"
   ]
  },
  {
   "cell_type": "code",
   "execution_count": 200,
   "metadata": {},
   "outputs": [
    {
     "name": "stdout",
     "output_type": "stream",
     "text": [
      "     finished at:  09:56:08\n"
     ]
    }
   ],
   "source": [
    "batch_processing(batch_size, batch_num, topic, prompt1)"
   ]
  },
  {
   "cell_type": "code",
   "execution_count": 201,
   "metadata": {},
   "outputs": [
    {
     "name": "stdout",
     "output_type": "stream",
     "text": [
      "     finished at:  09:56:09\n"
     ]
    }
   ],
   "source": [
    "batch_processing(batch_size, batch_num, topic, prompt1)"
   ]
  },
  {
   "cell_type": "code",
   "execution_count": 202,
   "metadata": {},
   "outputs": [
    {
     "name": "stdout",
     "output_type": "stream",
     "text": [
      "     finished at:  09:56:10\n"
     ]
    }
   ],
   "source": [
    "batch_processing(batch_size, batch_num, topic, prompt1)"
   ]
  },
  {
   "cell_type": "code",
   "execution_count": 203,
   "metadata": {},
   "outputs": [
    {
     "name": "stdout",
     "output_type": "stream",
     "text": [
      "     finished at:  09:56:10\n"
     ]
    }
   ],
   "source": [
    "batch_processing(batch_size, batch_num, topic, prompt1)"
   ]
  },
  {
   "cell_type": "code",
   "execution_count": 204,
   "metadata": {},
   "outputs": [
    {
     "name": "stdout",
     "output_type": "stream",
     "text": [
      "     finished at:  09:56:11\n"
     ]
    }
   ],
   "source": [
    "batch_processing(batch_size, batch_num, topic, prompt1)"
   ]
  },
  {
   "cell_type": "code",
   "execution_count": 205,
   "metadata": {},
   "outputs": [
    {
     "name": "stdout",
     "output_type": "stream",
     "text": [
      "     finished at:  09:56:12\n"
     ]
    }
   ],
   "source": [
    "batch_processing(batch_size, batch_num, topic, prompt1)"
   ]
  },
  {
   "cell_type": "code",
   "execution_count": 206,
   "metadata": {},
   "outputs": [
    {
     "name": "stdout",
     "output_type": "stream",
     "text": [
      "     finished at:  09:56:13\n"
     ]
    }
   ],
   "source": [
    "batch_processing(batch_size, batch_num, topic, prompt1)"
   ]
  },
  {
   "cell_type": "code",
   "execution_count": 207,
   "metadata": {},
   "outputs": [
    {
     "name": "stdout",
     "output_type": "stream",
     "text": [
      "     finished at:  09:56:13\n"
     ]
    }
   ],
   "source": [
    "batch_processing(batch_size, batch_num, topic, prompt1)"
   ]
  },
  {
   "cell_type": "code",
   "execution_count": 208,
   "metadata": {},
   "outputs": [
    {
     "name": "stdout",
     "output_type": "stream",
     "text": [
      "     finished at:  09:56:14\n"
     ]
    }
   ],
   "source": [
    "batch_processing(batch_size, batch_num, topic, prompt1)"
   ]
  },
  {
   "cell_type": "code",
   "execution_count": 209,
   "metadata": {},
   "outputs": [
    {
     "name": "stdout",
     "output_type": "stream",
     "text": [
      "     finished at:  09:56:14\n"
     ]
    }
   ],
   "source": [
    "batch_processing(batch_size, batch_num, topic, prompt1)"
   ]
  },
  {
   "cell_type": "code",
   "execution_count": 210,
   "metadata": {},
   "outputs": [
    {
     "name": "stdout",
     "output_type": "stream",
     "text": [
      "     finished at:  09:56:15\n"
     ]
    }
   ],
   "source": [
    "batch_processing(batch_size, batch_num, topic, prompt1)"
   ]
  },
  {
   "cell_type": "code",
   "execution_count": 211,
   "metadata": {},
   "outputs": [
    {
     "name": "stdout",
     "output_type": "stream",
     "text": [
      "     finished at:  09:56:15\n"
     ]
    }
   ],
   "source": [
    "batch_processing(batch_size, batch_num, topic, prompt1)"
   ]
  },
  {
   "cell_type": "code",
   "execution_count": 212,
   "metadata": {},
   "outputs": [
    {
     "name": "stdout",
     "output_type": "stream",
     "text": [
      "     finished at:  09:56:16\n"
     ]
    }
   ],
   "source": [
    "batch_processing(batch_size, batch_num, topic, prompt1)"
   ]
  },
  {
   "cell_type": "code",
   "execution_count": 213,
   "metadata": {},
   "outputs": [
    {
     "name": "stdout",
     "output_type": "stream",
     "text": [
      "     finished at:  09:56:18\n"
     ]
    }
   ],
   "source": [
    "batch_processing(batch_size, batch_num, topic, prompt1)"
   ]
  },
  {
   "cell_type": "code",
   "execution_count": 214,
   "metadata": {},
   "outputs": [
    {
     "name": "stdout",
     "output_type": "stream",
     "text": [
      "     finished at:  09:56:18\n"
     ]
    }
   ],
   "source": [
    "batch_processing(batch_size, batch_num, topic, prompt1)"
   ]
  },
  {
   "cell_type": "code",
   "execution_count": 215,
   "metadata": {},
   "outputs": [
    {
     "name": "stdout",
     "output_type": "stream",
     "text": [
      "     finished at:  09:56:19\n"
     ]
    }
   ],
   "source": [
    "batch_processing(batch_size, batch_num, topic, prompt1)"
   ]
  },
  {
   "cell_type": "code",
   "execution_count": 216,
   "metadata": {},
   "outputs": [
    {
     "name": "stdout",
     "output_type": "stream",
     "text": [
      "     finished at:  09:56:20\n"
     ]
    }
   ],
   "source": [
    "batch_processing(batch_size, batch_num, topic, prompt1)"
   ]
  },
  {
   "cell_type": "code",
   "execution_count": 217,
   "metadata": {},
   "outputs": [
    {
     "name": "stdout",
     "output_type": "stream",
     "text": [
      "     finished at:  09:56:21\n"
     ]
    }
   ],
   "source": [
    "batch_processing(batch_size, batch_num, topic, prompt1)"
   ]
  },
  {
   "cell_type": "code",
   "execution_count": 218,
   "metadata": {},
   "outputs": [
    {
     "name": "stdout",
     "output_type": "stream",
     "text": [
      "     finished at:  09:56:21\n"
     ]
    }
   ],
   "source": [
    "batch_processing(batch_size, batch_num, topic, prompt1)"
   ]
  },
  {
   "cell_type": "code",
   "execution_count": 219,
   "metadata": {},
   "outputs": [
    {
     "name": "stdout",
     "output_type": "stream",
     "text": [
      "     finished at:  09:56:22\n"
     ]
    }
   ],
   "source": [
    "batch_processing(batch_size, batch_num, topic, prompt1)"
   ]
  },
  {
   "cell_type": "code",
   "execution_count": 220,
   "metadata": {},
   "outputs": [
    {
     "name": "stdout",
     "output_type": "stream",
     "text": [
      "     finished at:  09:56:22\n"
     ]
    }
   ],
   "source": [
    "batch_processing(batch_size, batch_num, topic, prompt1)"
   ]
  },
  {
   "cell_type": "code",
   "execution_count": 221,
   "metadata": {},
   "outputs": [
    {
     "name": "stdout",
     "output_type": "stream",
     "text": [
      "     finished at:  09:56:23\n"
     ]
    }
   ],
   "source": [
    "batch_processing(batch_size, batch_num, topic, prompt1)"
   ]
  },
  {
   "cell_type": "code",
   "execution_count": 222,
   "metadata": {},
   "outputs": [
    {
     "name": "stdout",
     "output_type": "stream",
     "text": [
      "     finished at:  09:56:24\n"
     ]
    }
   ],
   "source": [
    "batch_processing(batch_size, batch_num, topic, prompt1)"
   ]
  },
  {
   "cell_type": "code",
   "execution_count": 223,
   "metadata": {},
   "outputs": [
    {
     "name": "stdout",
     "output_type": "stream",
     "text": [
      "     finished at:  09:56:24\n"
     ]
    }
   ],
   "source": [
    "batch_processing(batch_size, batch_num, topic, prompt1)"
   ]
  },
  {
   "cell_type": "code",
   "execution_count": 224,
   "metadata": {},
   "outputs": [
    {
     "name": "stdout",
     "output_type": "stream",
     "text": [
      "     finished at:  09:56:25\n"
     ]
    }
   ],
   "source": [
    "batch_processing(batch_size, batch_num, topic, prompt2)"
   ]
  },
  {
   "cell_type": "code",
   "execution_count": 225,
   "metadata": {},
   "outputs": [
    {
     "name": "stdout",
     "output_type": "stream",
     "text": [
      "     finished at:  09:56:26\n"
     ]
    }
   ],
   "source": [
    "batch_processing(batch_size, batch_num, topic, prompt2)"
   ]
  },
  {
   "cell_type": "code",
   "execution_count": 226,
   "metadata": {},
   "outputs": [
    {
     "name": "stdout",
     "output_type": "stream",
     "text": [
      "     finished at:  09:56:26\n"
     ]
    }
   ],
   "source": [
    "batch_processing(batch_size, batch_num, topic, prompt2)"
   ]
  },
  {
   "cell_type": "code",
   "execution_count": 227,
   "metadata": {},
   "outputs": [
    {
     "name": "stdout",
     "output_type": "stream",
     "text": [
      "     finished at:  09:56:27\n"
     ]
    }
   ],
   "source": [
    "batch_processing(batch_size, batch_num, topic, prompt2)"
   ]
  },
  {
   "cell_type": "code",
   "execution_count": 228,
   "metadata": {},
   "outputs": [
    {
     "name": "stdout",
     "output_type": "stream",
     "text": [
      "     finished at:  09:56:28\n"
     ]
    }
   ],
   "source": [
    "batch_processing(batch_size, batch_num, topic, prompt2)"
   ]
  },
  {
   "cell_type": "code",
   "execution_count": 229,
   "metadata": {},
   "outputs": [
    {
     "name": "stdout",
     "output_type": "stream",
     "text": [
      "     finished at:  09:56:28\n"
     ]
    }
   ],
   "source": [
    "batch_processing(batch_size, batch_num, topic, prompt2)"
   ]
  },
  {
   "cell_type": "code",
   "execution_count": 230,
   "metadata": {},
   "outputs": [
    {
     "name": "stdout",
     "output_type": "stream",
     "text": [
      "     finished at:  09:56:29\n"
     ]
    }
   ],
   "source": [
    "batch_processing(batch_size, batch_num, topic, prompt2)"
   ]
  },
  {
   "cell_type": "code",
   "execution_count": 231,
   "metadata": {},
   "outputs": [
    {
     "name": "stdout",
     "output_type": "stream",
     "text": [
      "     finished at:  09:56:29\n"
     ]
    }
   ],
   "source": [
    "batch_processing(batch_size, batch_num, topic, prompt2)"
   ]
  },
  {
   "cell_type": "code",
   "execution_count": 232,
   "metadata": {},
   "outputs": [
    {
     "name": "stdout",
     "output_type": "stream",
     "text": [
      "     finished at:  09:56:30\n"
     ]
    }
   ],
   "source": [
    "batch_processing(batch_size, batch_num, topic, prompt2)"
   ]
  },
  {
   "cell_type": "code",
   "execution_count": 233,
   "metadata": {},
   "outputs": [
    {
     "name": "stdout",
     "output_type": "stream",
     "text": [
      "     finished at:  09:56:31\n"
     ]
    }
   ],
   "source": [
    "batch_processing(batch_size, batch_num, topic, prompt2)"
   ]
  },
  {
   "cell_type": "code",
   "execution_count": 234,
   "metadata": {},
   "outputs": [
    {
     "name": "stdout",
     "output_type": "stream",
     "text": [
      "     finished at:  09:56:32\n"
     ]
    }
   ],
   "source": [
    "batch_processing(batch_size, batch_num, topic, prompt2)"
   ]
  },
  {
   "cell_type": "code",
   "execution_count": 235,
   "metadata": {},
   "outputs": [
    {
     "name": "stdout",
     "output_type": "stream",
     "text": [
      "     finished at:  09:56:33\n"
     ]
    }
   ],
   "source": [
    "batch_processing(batch_size, batch_num, topic, prompt2)"
   ]
  },
  {
   "cell_type": "code",
   "execution_count": 236,
   "metadata": {},
   "outputs": [
    {
     "name": "stdout",
     "output_type": "stream",
     "text": [
      "     finished at:  09:56:33\n"
     ]
    }
   ],
   "source": [
    "batch_processing(batch_size, batch_num, topic, prompt2)"
   ]
  },
  {
   "cell_type": "code",
   "execution_count": 237,
   "metadata": {},
   "outputs": [
    {
     "name": "stdout",
     "output_type": "stream",
     "text": [
      "     finished at:  09:56:34\n"
     ]
    }
   ],
   "source": [
    "batch_processing(batch_size, batch_num, topic, prompt2)"
   ]
  },
  {
   "cell_type": "code",
   "execution_count": 238,
   "metadata": {},
   "outputs": [
    {
     "name": "stdout",
     "output_type": "stream",
     "text": [
      "     finished at:  09:56:34\n"
     ]
    }
   ],
   "source": [
    "batch_processing(batch_size, batch_num, topic, prompt2)"
   ]
  },
  {
   "cell_type": "code",
   "execution_count": 239,
   "metadata": {},
   "outputs": [
    {
     "name": "stdout",
     "output_type": "stream",
     "text": [
      "     finished at:  09:56:35\n"
     ]
    }
   ],
   "source": [
    "batch_processing(batch_size, batch_num, topic, prompt2)"
   ]
  },
  {
   "cell_type": "code",
   "execution_count": 240,
   "metadata": {},
   "outputs": [
    {
     "name": "stdout",
     "output_type": "stream",
     "text": [
      "     finished at:  09:56:35\n"
     ]
    }
   ],
   "source": [
    "batch_processing(batch_size, batch_num, topic, prompt2)"
   ]
  },
  {
   "cell_type": "code",
   "execution_count": 241,
   "metadata": {},
   "outputs": [
    {
     "name": "stdout",
     "output_type": "stream",
     "text": [
      "     finished at:  09:56:36\n"
     ]
    }
   ],
   "source": [
    "batch_processing(batch_size, batch_num, topic, prompt2)"
   ]
  },
  {
   "cell_type": "code",
   "execution_count": 242,
   "metadata": {},
   "outputs": [
    {
     "name": "stdout",
     "output_type": "stream",
     "text": [
      "     finished at:  09:56:36\n"
     ]
    }
   ],
   "source": [
    "batch_processing(batch_size, batch_num, topic, prompt2)"
   ]
  },
  {
   "cell_type": "code",
   "execution_count": 243,
   "metadata": {},
   "outputs": [
    {
     "name": "stdout",
     "output_type": "stream",
     "text": [
      "     finished at:  09:56:37\n"
     ]
    }
   ],
   "source": [
    "batch_processing(batch_size, batch_num, topic, prompt2)"
   ]
  },
  {
   "cell_type": "code",
   "execution_count": 244,
   "metadata": {},
   "outputs": [
    {
     "name": "stdout",
     "output_type": "stream",
     "text": [
      "     finished at:  09:56:38\n"
     ]
    }
   ],
   "source": [
    "batch_processing(batch_size, batch_num, topic, prompt2)"
   ]
  },
  {
   "cell_type": "code",
   "execution_count": 245,
   "metadata": {},
   "outputs": [
    {
     "name": "stdout",
     "output_type": "stream",
     "text": [
      "     finished at:  09:56:38\n"
     ]
    }
   ],
   "source": [
    "batch_processing(batch_size, batch_num, topic, prompt2)"
   ]
  },
  {
   "cell_type": "code",
   "execution_count": 246,
   "metadata": {},
   "outputs": [
    {
     "name": "stdout",
     "output_type": "stream",
     "text": [
      "     finished at:  09:56:39\n"
     ]
    }
   ],
   "source": [
    "batch_processing(batch_size, batch_num, topic, prompt2)"
   ]
  },
  {
   "cell_type": "code",
   "execution_count": 247,
   "metadata": {},
   "outputs": [
    {
     "name": "stdout",
     "output_type": "stream",
     "text": [
      "     finished at:  09:56:39\n"
     ]
    }
   ],
   "source": [
    "batch_processing(batch_size, batch_num, topic, prompt2)"
   ]
  },
  {
   "cell_type": "code",
   "execution_count": 248,
   "metadata": {},
   "outputs": [
    {
     "name": "stdout",
     "output_type": "stream",
     "text": [
      "     finished at:  09:56:40\n"
     ]
    }
   ],
   "source": [
    "batch_processing(batch_size, batch_num, topic, prompt2)"
   ]
  },
  {
   "cell_type": "code",
   "execution_count": 249,
   "metadata": {},
   "outputs": [
    {
     "name": "stdout",
     "output_type": "stream",
     "text": [
      "     finished at:  09:56:41\n"
     ]
    }
   ],
   "source": [
    "batch_processing(batch_size, batch_num, topic, prompt2)"
   ]
  },
  {
   "cell_type": "code",
   "execution_count": 250,
   "metadata": {},
   "outputs": [
    {
     "name": "stdout",
     "output_type": "stream",
     "text": [
      "     finished at:  09:56:42\n"
     ]
    }
   ],
   "source": [
    "batch_processing(batch_size, batch_num, topic, prompt2)"
   ]
  },
  {
   "cell_type": "code",
   "execution_count": 251,
   "metadata": {},
   "outputs": [
    {
     "name": "stdout",
     "output_type": "stream",
     "text": [
      "     finished at:  09:56:43\n"
     ]
    }
   ],
   "source": [
    "batch_processing(batch_size, batch_num, topic, prompt2)"
   ]
  },
  {
   "cell_type": "code",
   "execution_count": 252,
   "metadata": {},
   "outputs": [
    {
     "name": "stdout",
     "output_type": "stream",
     "text": [
      "     finished at:  09:56:43\n"
     ]
    }
   ],
   "source": [
    "batch_processing(batch_size, batch_num, topic, prompt2)"
   ]
  },
  {
   "cell_type": "code",
   "execution_count": 253,
   "metadata": {},
   "outputs": [
    {
     "name": "stdout",
     "output_type": "stream",
     "text": [
      "     finished at:  09:56:44\n"
     ]
    }
   ],
   "source": [
    "batch_processing(batch_size, batch_num, topic, prompt2)"
   ]
  },
  {
   "cell_type": "code",
   "execution_count": 254,
   "metadata": {},
   "outputs": [
    {
     "name": "stdout",
     "output_type": "stream",
     "text": [
      "     finished at:  09:56:45\n"
     ]
    }
   ],
   "source": [
    "batch_processing(batch_size, batch_num, topic, prompt2)"
   ]
  },
  {
   "cell_type": "code",
   "execution_count": 255,
   "metadata": {},
   "outputs": [
    {
     "name": "stdout",
     "output_type": "stream",
     "text": [
      "     finished at:  09:56:45\n"
     ]
    }
   ],
   "source": [
    "batch_processing(batch_size, batch_num, topic, prompt2)"
   ]
  },
  {
   "cell_type": "code",
   "execution_count": 256,
   "metadata": {},
   "outputs": [
    {
     "name": "stdout",
     "output_type": "stream",
     "text": [
      "     finished at:  09:56:46\n"
     ]
    }
   ],
   "source": [
    "batch_processing(batch_size, batch_num, topic, prompt2)"
   ]
  },
  {
   "cell_type": "code",
   "execution_count": 257,
   "metadata": {},
   "outputs": [
    {
     "name": "stdout",
     "output_type": "stream",
     "text": [
      "     finished at:  09:56:46\n"
     ]
    }
   ],
   "source": [
    "batch_processing(batch_size, batch_num, topic, prompt2)"
   ]
  },
  {
   "cell_type": "code",
   "execution_count": 258,
   "metadata": {},
   "outputs": [
    {
     "name": "stdout",
     "output_type": "stream",
     "text": [
      "     finished at:  09:56:47\n"
     ]
    }
   ],
   "source": [
    "batch_processing(batch_size, batch_num, topic, prompt2)"
   ]
  },
  {
   "cell_type": "code",
   "execution_count": 259,
   "metadata": {},
   "outputs": [
    {
     "name": "stdout",
     "output_type": "stream",
     "text": [
      "     finished at:  09:56:47\n"
     ]
    }
   ],
   "source": [
    "batch_processing(batch_size, batch_num, topic, prompt2)"
   ]
  },
  {
   "cell_type": "code",
   "execution_count": 260,
   "metadata": {},
   "outputs": [
    {
     "name": "stdout",
     "output_type": "stream",
     "text": [
      "     finished at:  09:56:48\n"
     ]
    }
   ],
   "source": [
    "batch_processing(batch_size, batch_num, topic, prompt2)"
   ]
  },
  {
   "cell_type": "code",
   "execution_count": 261,
   "metadata": {},
   "outputs": [
    {
     "name": "stdout",
     "output_type": "stream",
     "text": [
      "     finished at:  09:56:49\n"
     ]
    }
   ],
   "source": [
    "batch_processing(batch_size, batch_num, topic, prompt2)"
   ]
  },
  {
   "cell_type": "code",
   "execution_count": 262,
   "metadata": {},
   "outputs": [
    {
     "name": "stdout",
     "output_type": "stream",
     "text": [
      "     finished at:  09:56:50\n"
     ]
    }
   ],
   "source": [
    "batch_processing(batch_size, batch_num, topic, prompt2)"
   ]
  },
  {
   "cell_type": "code",
   "execution_count": 263,
   "metadata": {},
   "outputs": [
    {
     "name": "stdout",
     "output_type": "stream",
     "text": [
      "     finished at:  09:56:50\n"
     ]
    }
   ],
   "source": [
    "batch_processing(batch_size, batch_num, topic, prompt2)"
   ]
  },
  {
   "cell_type": "code",
   "execution_count": 264,
   "metadata": {},
   "outputs": [
    {
     "name": "stdout",
     "output_type": "stream",
     "text": [
      "     finished at:  09:56:51\n"
     ]
    }
   ],
   "source": [
    "batch_processing(batch_size, batch_num, topic, prompt2)"
   ]
  },
  {
   "cell_type": "code",
   "execution_count": 265,
   "metadata": {},
   "outputs": [
    {
     "name": "stdout",
     "output_type": "stream",
     "text": [
      "     finished at:  09:56:52\n"
     ]
    }
   ],
   "source": [
    "batch_processing(batch_size, batch_num, topic, prompt2)"
   ]
  },
  {
   "cell_type": "code",
   "execution_count": 266,
   "metadata": {},
   "outputs": [
    {
     "name": "stdout",
     "output_type": "stream",
     "text": [
      "     finished at:  09:56:52\n"
     ]
    }
   ],
   "source": [
    "batch_processing(batch_size, batch_num, topic, prompt2)"
   ]
  },
  {
   "cell_type": "code",
   "execution_count": 267,
   "metadata": {},
   "outputs": [
    {
     "name": "stdout",
     "output_type": "stream",
     "text": [
      "     finished at:  09:56:53\n"
     ]
    }
   ],
   "source": [
    "batch_processing(batch_size, batch_num, topic, prompt2)"
   ]
  },
  {
   "cell_type": "code",
   "execution_count": 268,
   "metadata": {},
   "outputs": [
    {
     "name": "stdout",
     "output_type": "stream",
     "text": [
      "     finished at:  09:56:54\n"
     ]
    }
   ],
   "source": [
    "batch_processing(batch_size, batch_num, topic, prompt2)"
   ]
  },
  {
   "cell_type": "code",
   "execution_count": 269,
   "metadata": {},
   "outputs": [
    {
     "name": "stdout",
     "output_type": "stream",
     "text": [
      "     finished at:  09:56:54\n"
     ]
    }
   ],
   "source": [
    "batch_processing(batch_size, batch_num, topic, prompt2)"
   ]
  },
  {
   "cell_type": "code",
   "execution_count": 270,
   "metadata": {},
   "outputs": [
    {
     "name": "stdout",
     "output_type": "stream",
     "text": [
      "     finished at:  09:56:55\n"
     ]
    }
   ],
   "source": [
    "batch_processing(batch_size, batch_num, topic, prompt2)"
   ]
  },
  {
   "cell_type": "code",
   "execution_count": 271,
   "metadata": {},
   "outputs": [
    {
     "name": "stdout",
     "output_type": "stream",
     "text": [
      "     finished at:  09:56:56\n"
     ]
    }
   ],
   "source": [
    "batch_processing(batch_size, batch_num, topic, prompt2)"
   ]
  },
  {
   "cell_type": "code",
   "execution_count": 272,
   "metadata": {},
   "outputs": [
    {
     "name": "stdout",
     "output_type": "stream",
     "text": [
      "     finished at:  09:56:57\n"
     ]
    }
   ],
   "source": [
    "batch_processing(batch_size, batch_num, topic, prompt2)"
   ]
  },
  {
   "cell_type": "code",
   "execution_count": 273,
   "metadata": {},
   "outputs": [
    {
     "name": "stdout",
     "output_type": "stream",
     "text": [
      "     finished at:  09:56:58\n"
     ]
    }
   ],
   "source": [
    "batch_processing(batch_size, batch_num, topic, prompt2)"
   ]
  },
  {
   "cell_type": "code",
   "execution_count": 274,
   "metadata": {},
   "outputs": [
    {
     "name": "stdout",
     "output_type": "stream",
     "text": [
      "     finished at:  09:56:58\n"
     ]
    }
   ],
   "source": [
    "batch_processing(batch_size, batch_num, topic, prompt2)"
   ]
  },
  {
   "cell_type": "code",
   "execution_count": 275,
   "metadata": {},
   "outputs": [
    {
     "name": "stdout",
     "output_type": "stream",
     "text": [
      "     finished at:  09:56:59\n"
     ]
    }
   ],
   "source": [
    "batch_processing(batch_size, batch_num, topic, prompt2)"
   ]
  },
  {
   "cell_type": "code",
   "execution_count": 276,
   "metadata": {},
   "outputs": [
    {
     "name": "stdout",
     "output_type": "stream",
     "text": [
      "     finished at:  09:57:00\n"
     ]
    }
   ],
   "source": [
    "batch_processing(batch_size, batch_num, topic, prompt2)"
   ]
  },
  {
   "cell_type": "code",
   "execution_count": 277,
   "metadata": {},
   "outputs": [
    {
     "name": "stdout",
     "output_type": "stream",
     "text": [
      "     finished at:  09:57:00\n"
     ]
    }
   ],
   "source": [
    "batch_processing(batch_size, batch_num, topic, prompt2)"
   ]
  },
  {
   "cell_type": "code",
   "execution_count": 278,
   "metadata": {},
   "outputs": [
    {
     "name": "stdout",
     "output_type": "stream",
     "text": [
      "     finished at:  09:57:01\n"
     ]
    }
   ],
   "source": [
    "batch_processing(batch_size, batch_num, topic, prompt2)"
   ]
  },
  {
   "cell_type": "code",
   "execution_count": 279,
   "metadata": {},
   "outputs": [
    {
     "name": "stdout",
     "output_type": "stream",
     "text": [
      "     finished at:  09:57:02\n"
     ]
    }
   ],
   "source": [
    "batch_processing(batch_size, batch_num, topic, prompt2)"
   ]
  },
  {
   "cell_type": "code",
   "execution_count": 280,
   "metadata": {},
   "outputs": [
    {
     "name": "stdout",
     "output_type": "stream",
     "text": [
      "     finished at:  09:57:02\n"
     ]
    }
   ],
   "source": [
    "batch_processing(batch_size, batch_num, topic, prompt2)"
   ]
  },
  {
   "cell_type": "code",
   "execution_count": 281,
   "metadata": {},
   "outputs": [
    {
     "name": "stdout",
     "output_type": "stream",
     "text": [
      "     finished at:  09:57:03\n"
     ]
    }
   ],
   "source": [
    "batch_processing(batch_size, batch_num, topic, prompt2)"
   ]
  },
  {
   "cell_type": "code",
   "execution_count": 282,
   "metadata": {},
   "outputs": [
    {
     "name": "stdout",
     "output_type": "stream",
     "text": [
      "     finished at:  09:57:03\n"
     ]
    }
   ],
   "source": [
    "batch_processing(batch_size, batch_num, topic, prompt2)"
   ]
  },
  {
   "cell_type": "code",
   "execution_count": 283,
   "metadata": {},
   "outputs": [
    {
     "name": "stdout",
     "output_type": "stream",
     "text": [
      "     finished at:  09:57:04\n"
     ]
    }
   ],
   "source": [
    "batch_processing(batch_size, batch_num, topic, prompt2)"
   ]
  },
  {
   "cell_type": "code",
   "execution_count": 284,
   "metadata": {},
   "outputs": [
    {
     "name": "stdout",
     "output_type": "stream",
     "text": [
      "     finished at:  09:57:04\n"
     ]
    }
   ],
   "source": [
    "batch_processing(batch_size, batch_num, topic, prompt2)"
   ]
  },
  {
   "cell_type": "code",
   "execution_count": 285,
   "metadata": {},
   "outputs": [
    {
     "name": "stdout",
     "output_type": "stream",
     "text": [
      "     finished at:  09:57:05\n"
     ]
    }
   ],
   "source": [
    "batch_processing(batch_size, batch_num, topic, prompt2)"
   ]
  },
  {
   "cell_type": "code",
   "execution_count": 286,
   "metadata": {},
   "outputs": [
    {
     "name": "stdout",
     "output_type": "stream",
     "text": [
      "     finished at:  09:57:05\n"
     ]
    }
   ],
   "source": [
    "batch_processing(batch_size, batch_num, topic, prompt2)"
   ]
  },
  {
   "cell_type": "code",
   "execution_count": 287,
   "metadata": {},
   "outputs": [
    {
     "name": "stdout",
     "output_type": "stream",
     "text": [
      "     finished at:  09:57:06\n"
     ]
    }
   ],
   "source": [
    "batch_processing(batch_size, batch_num, topic, prompt2)"
   ]
  },
  {
   "cell_type": "code",
   "execution_count": 288,
   "metadata": {},
   "outputs": [
    {
     "name": "stdout",
     "output_type": "stream",
     "text": [
      "     finished at:  09:57:06\n"
     ]
    }
   ],
   "source": [
    "batch_processing(batch_size, batch_num, topic, prompt2)"
   ]
  },
  {
   "cell_type": "code",
   "execution_count": 289,
   "metadata": {},
   "outputs": [
    {
     "name": "stdout",
     "output_type": "stream",
     "text": [
      "     finished at:  09:57:07\n"
     ]
    }
   ],
   "source": [
    "batch_processing(batch_size, batch_num, topic, prompt2)"
   ]
  },
  {
   "cell_type": "code",
   "execution_count": 290,
   "metadata": {},
   "outputs": [
    {
     "name": "stdout",
     "output_type": "stream",
     "text": [
      "     finished at:  09:57:08\n"
     ]
    }
   ],
   "source": [
    "batch_processing(batch_size, batch_num, topic, prompt2)"
   ]
  },
  {
   "cell_type": "code",
   "execution_count": 291,
   "metadata": {},
   "outputs": [
    {
     "name": "stdout",
     "output_type": "stream",
     "text": [
      "     finished at:  09:57:08\n"
     ]
    }
   ],
   "source": [
    "batch_processing(batch_size, batch_num, topic, prompt2)"
   ]
  },
  {
   "cell_type": "code",
   "execution_count": 292,
   "metadata": {},
   "outputs": [
    {
     "name": "stdout",
     "output_type": "stream",
     "text": [
      "     finished at:  09:57:09\n"
     ]
    }
   ],
   "source": [
    "batch_processing(batch_size, batch_num, topic, prompt2)"
   ]
  },
  {
   "cell_type": "code",
   "execution_count": 293,
   "metadata": {},
   "outputs": [
    {
     "name": "stdout",
     "output_type": "stream",
     "text": [
      "     finished at:  09:57:09\n"
     ]
    }
   ],
   "source": [
    "batch_processing(batch_size, batch_num, topic, prompt2)"
   ]
  },
  {
   "cell_type": "code",
   "execution_count": 294,
   "metadata": {},
   "outputs": [
    {
     "name": "stdout",
     "output_type": "stream",
     "text": [
      "Combined CSV with duplicates removed saved to './temp/temp.csv'\n"
     ]
    }
   ],
   "source": [
    "combine_and_remove_duplicates(input_folder, temp_file)"
   ]
  },
  {
   "cell_type": "code",
   "execution_count": 295,
   "metadata": {},
   "outputs": [],
   "source": [
    "remove_items_without_period(temp_file, output_file)"
   ]
  }
 ],
 "metadata": {
  "kernelspec": {
   "display_name": "Python 3",
   "language": "python",
   "name": "python3"
  },
  "language_info": {
   "codemirror_mode": {
    "name": "ipython",
    "version": 3
   },
   "file_extension": ".py",
   "mimetype": "text/x-python",
   "name": "python",
   "nbconvert_exporter": "python",
   "pygments_lexer": "ipython3",
   "version": "3.10.11"
  }
 },
 "nbformat": 4,
 "nbformat_minor": 2
}
